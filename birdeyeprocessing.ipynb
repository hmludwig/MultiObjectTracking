{
 "cells": [
  {
   "cell_type": "code",
   "execution_count": 1,
   "id": "627611b7-d128-48a7-9933-17ed84ace17e",
   "metadata": {},
   "outputs": [],
   "source": [
    "import os\n",
    "\n",
    "from PIL import Image\n",
    "\n",
    "import tools.dataset_tools as dataset_tools\n",
    "from tools.frame_pb2 import Frame\n",
    "import tools.plot_tools as plot_tools"
   ]
  },
  {
   "cell_type": "code",
   "execution_count": 2,
   "id": "86d634ec-dc12-4184-85b4-91b4cf526a6f",
   "metadata": {},
   "outputs": [
    {
     "name": "stdout",
     "output_type": "stream",
     "text": [
      "Requirement already satisfied: natsort in /opt/homebrew/Caskroom/miniconda/base/envs/introav/lib/python3.8/site-packages (8.3.1)\n"
     ]
    }
   ],
   "source": [
    "!pip install natsort"
   ]
  },
  {
   "cell_type": "code",
   "execution_count": 3,
   "id": "956fb863-6b01-46d4-a47c-33bf33d973d6",
   "metadata": {},
   "outputs": [],
   "source": [
    "from os import listdir\n",
    "from os.path import isfile, join\n",
    "from natsort import natsorted, ns\n",
    "from PIL import Image\n",
    "import numpy as np\n",
    "\n",
    "def get_frame_pcl(frame_path):\n",
    "    frame = dataset_tools.read_frame(frame_path)\n",
    "    lidar = frame.lidars[0]\n",
    "    return dataset_tools.decode_lidar(lidar)\n"
   ]
  },
  {
   "cell_type": "code",
   "execution_count": 4,
   "id": "74b156c1-2098-4287-b0f5-2d8d1e68dcf8",
   "metadata": {},
   "outputs": [],
   "source": [
    "def from_raw_to_bird_eye(pcl, frame, side_range = [-15, 15], fwd_range = [-0, 30]):\n",
    "    '''\n",
    "    # LIMIT VIEWING RANGE - To within a desired rectangle\n",
    "    side_range = [-15, 15] # 10 metres on either side\n",
    "    fwd_range = [-0, 30]   # 30 metres in front\n",
    "    '''\n",
    "    x_lidar = pcl[:, 0]\n",
    "    y_lidar = pcl[:, 1]\n",
    "    z_lidar = pcl[:, 2]\n",
    "    # INDICES FILTER - of values within the desired rectangle\n",
    "    # Note left side is positive y axis in LIDAR coordinates\n",
    "    ff = np.logical_and((x_lidar > fwd_range[0]), (x_lidar < fwd_range[1]))\n",
    "    ss = np.logical_and((y_lidar > -side_range[1]), (y_lidar < -side_range[0]))\n",
    "    indices = np.argwhere(np.logical_and(ff, ss)).flatten()\n",
    "    # POINTS TO USE FOR IMAGE\n",
    "    x_img = -y_lidar[indices]       # x axis is -y in LIDAR\n",
    "    y_img = x_lidar[indices]        # y axis is x in LIDAR\n",
    "    pixel_values = z_lidar[indices] # Height values used for pixel intensity\n",
    "\n",
    "    # Shift values so (0,0) is the minimum value\n",
    "    x_img -= side_range[0]\n",
    "    y_img -= fwd_range[0]\n",
    "    \n",
    "    # PLOT THE IMAGE\n",
    "    cmap = \"jet\"    # Color map to use\n",
    "    dpi = 100       # Image resolution\n",
    "    x_max = side_range[1] - side_range[0]\n",
    "    y_max = fwd_range[1] - fwd_range[0]\n",
    "    fig, ax = plt.subplots(figsize=(600/dpi, 600/dpi), dpi=dpi)\n",
    "    ax.scatter(x_img, y_img, s=1, c=pixel_values, linewidths=0, alpha=1, cmap=cmap)\n",
    "    ax.set_facecolor((0, 0, 0))  # Set regions with no points to black\n",
    "    ax.axis('scaled')  # {equal, scaled}\n",
    "    ax.xaxis.set_visible(False)  # Do not draw axis tick marks\n",
    "    ax.yaxis.set_visible(False)  # Do not draw axis tick marks\n",
    "    plt.xlim([0, x_max])  # prevent drawing empty space outside of horizontal FOV\n",
    "    plt.ylim([0, y_max])  # prevent drawing empty space outside of vertical FOV\n",
    "    fig.savefig(f\"bev_data/{frame}.jpg\", dpi=dpi, bbox_inches='tight', pad_inches=0.0)\n",
    "\n",
    "    return (x_img, y_img, pixel_values)\n"
   ]
  },
  {
   "cell_type": "code",
   "execution_count": null,
   "id": "c5a1c543-8e3e-4aa3-b8e9-149722394ff9",
   "metadata": {},
   "outputs": [],
   "source": [
    "mypath = \"./data/\"\n",
    "onlyfiles = natsorted([mypath+f for f in listdir(mypath) if isfile(join(mypath, f))], key=lambda y: y.lower())\n",
    "\n",
    "for f in onlyfiles:\n",
    "    print('frame: ', f)\n",
    "    pcl = get_frame_pcl(f)\n",
    "    bev = from_raw_to_bird_eye(pcl,f.replace(\"./data/\",\"\").replace(\".pb\",\"\"))"
   ]
  }
 ],
 "metadata": {
  "kernelspec": {
   "display_name": "Python 3 (ipykernel)",
   "language": "python",
   "name": "python3"
  },
  "language_info": {
   "codemirror_mode": {
    "name": "ipython",
    "version": 3
   },
   "file_extension": ".py",
   "mimetype": "text/x-python",
   "name": "python",
   "nbconvert_exporter": "python",
   "pygments_lexer": "ipython3",
   "version": "3.8.16"
  }
 },
 "nbformat": 4,
 "nbformat_minor": 5
}
